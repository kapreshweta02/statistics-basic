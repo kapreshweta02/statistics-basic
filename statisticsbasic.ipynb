{
  "nbformat": 4,
  "nbformat_minor": 0,
  "metadata": {
    "colab": {
      "provenance": []
    },
    "kernelspec": {
      "name": "python3",
      "display_name": "Python 3"
    },
    "language_info": {
      "name": "python"
    }
  },
  "cells": [
    {
      "cell_type": "markdown",
      "source": [
        "**STATISTICS BASIC**"
      ],
      "metadata": {
        "id": "vLfkkH_Me6YW"
      }
    },
    {
      "cell_type": "markdown",
      "source": [
        "1.What is statistics, and why is it important?\n",
        "\n",
        "Ans-Statistics is the branch of mathematics that deals with collecting, organizing, analyzing, interpreting, and presenting data. It helps us make sense of large amounts of information by identifying patterns, trends, and relationships within the data.\n",
        "\n",
        "\n",
        "*Types of Statistics:\n",
        "\n",
        "1.Descriptive Statistics – Summarizes data using measures like mean, median, mode, and standard deviation.\n",
        "\n",
        "2.Inferential Statistics – Makes predictions or generalizations about a population based on a sample of data.\n",
        "\n",
        "*Why Is Statistics Important?\n",
        "\n",
        "->Informed Decision-Making\n",
        "\n",
        "It helps individuals, businesses, and governments make data-driven decisions based on evidence rather than guesswork.\n",
        "\n",
        "->Understanding Trends and Patterns\n",
        "\n",
        "Statistics allows us to detect changes and relationships in data over time, such as shifts in customer behavior or public health trends.\n",
        "\n",
        "->Scientific Research\n",
        "\n",
        "In science, statistics is essential for designing experiments, testing hypotheses, and validating findings.\n",
        "\n",
        "->Risk Management\n",
        "\n",
        "It helps in assessing probabilities and managing risks in areas like insurance, finance, and engineering.\n",
        "\n",
        "->Policy and Planning\n",
        "\n",
        "Governments use statistical data for planning public services, allocating resources, and measuring the effectiveness of policies."
      ],
      "metadata": {
        "id": "B3nvkxFtf1cP"
      }
    },
    {
      "cell_type": "markdown",
      "source": [
        "2.What are the two main types of statistics?\n",
        "\n",
        "Ans- The two main types of statistics:\n",
        "1.Descriptive Statistics\n",
        "\n",
        "Descriptive statistics involve methods for summarizing and organizing data so it can be easily understood.\n",
        "\n",
        "Purpose: To describe the main features of a dataset.\n",
        "\n",
        "Examples:\n",
        "\n",
        "->Measures of central tendency: mean, median, mode\n",
        "\n",
        "->Measures of variability: range, variance, standard deviation\n",
        "\n",
        "->Data visualization: charts, graphs, tables\n",
        "\n",
        "2.Inferential Statistics\n",
        "\n",
        "Inferential statistics involve using a sample of data to make predictions or generalizations about a larger population.\n",
        "\n",
        "Purpose: To draw conclusions and make decisions based on data.\n",
        "\n",
        "Examples:\n",
        "\n",
        "->Hypothesis testing\n",
        "\n",
        "->Confidence intervals\n",
        "\n",
        "->Regression analysis\n",
        "\n",
        "->Chi-square tests and t-tests\n"
      ],
      "metadata": {
        "id": "aj5EwekFhSpR"
      }
    },
    {
      "cell_type": "markdown",
      "source": [
        "3.What are descriptive statistics?\n",
        "\n",
        "Ans-\n",
        "\n",
        "Descriptive statistics are methods used to summarize, organize, and simplify data so it’s easier to understand and interpret.\n",
        "\n",
        "Purpose:\n",
        "\n",
        "To describe the main features of a dataset without making predictions or generalizations beyond the data itself.\n",
        "\n",
        "*Key Components of Descriptive Statistics:\n",
        "\n",
        "1.Measures of Central Tendency\n",
        "\n",
        "->Mean – The average of the data\n",
        "\n",
        "->Median – The middle value when data is ordered\n",
        "\n",
        "->Mode – The value that appears most frequently\n",
        "\n",
        "2.Measures of Dispersion (Spread) – Show how data values vary:\n",
        "\n",
        "->Range – Difference between the highest and lowest values\n",
        "\n",
        "->Variance – Average of the squared differences from the mean\n",
        "\n",
        "->Standard Deviation – Square root of the variance; shows how much data varies from the mean\n",
        "\n",
        "->Frequency Distributions – Organize data into categories or intervals to show how often each value occurs.\n",
        "\n",
        "->Data Visualization Tools – Help present data in a visual format:\n",
        "\n",
        "*Bar graphs\n",
        "\n",
        "*Histograms\n",
        "\n",
        "*Pie charts\n",
        "\n",
        "*Box plots\n",
        "\n"
      ],
      "metadata": {
        "id": "iWmf1wnGiodC"
      }
    },
    {
      "cell_type": "markdown",
      "source": [
        "4.What is inferential statistics?\n",
        "\n",
        "Ans-Inferential statistics is the branch of statistics that involves using data from a sample to make inferences, predictions, or generalizations about a larger population.\n",
        "\n",
        "*Purpose:\n",
        "\n",
        "To go beyond just describing data and instead draw conclusions about a population based on sample data.\n",
        "\n",
        "*Key Concepts in Inferential Statistics:\n",
        "\n",
        "Population vs Sample\n",
        "\n",
        "->Population: The entire group you're interested in (e.g., all college students in a country)\n",
        "\n",
        "->Sample: A smaller group selected from the population (e.g., 500 students surveyed)\n",
        "\n",
        "->Hypothesis Testing\n",
        "\n",
        "A method to test an assumption (hypothesis) about a population\n",
        "\n",
        "Example: Testing if a new drug is more effective than an old one\n",
        "\n",
        "->Confidence Intervals\n",
        "\n",
        "A range of values that’s likely to contain the population parameter (e.g., \"We are 95% confident that the average height is between 160–165 cm.\")\n",
        "\n",
        "->P-values and Significance Levels\n",
        "\n",
        "Help determine if a result is statistically significant or likely due to chance\n",
        "\n",
        "->Regression and Correlation\n",
        "\n",
        "Tools to analyze relationships between variables (e.g., studying the link between hours studied and test scores)\n",
        "\n",
        "Example:\n",
        "Suppose you survey 1,000 people about their favorite ice cream flavor, and 60% say chocolate. Using inferential statistics, you can estimate that around 60% of the entire population also prefers chocolate, even though you didn’t ask everyone.\n",
        "\n"
      ],
      "metadata": {
        "id": "1v6PiUcNjru1"
      }
    },
    {
      "cell_type": "markdown",
      "source": [
        "5.What is sampling in statistics?\n",
        "\n",
        "Ans-Sampling in statistics is the process of selecting a subset (sample) from a larger group (population) to collect data and draw conclusions about the entire population.\n",
        "\n",
        "Importance of sampling in statistics:\n",
        "\n",
        "Studying an entire population is often too costly, time-consuming, or impractical.\n",
        "\n",
        "A well-chosen sample can give results that closely represent the population.\n",
        "\n",
        "->Key Terms:\n",
        "\n",
        "*Population: The complete group you want to study (e.g., all high school students in a country)\n",
        "\n",
        "*Sample: A smaller group selected from the population (e.g., 500 students)\n",
        "\n",
        "->There are 5 types of Sampling Methods:\n",
        "\n",
        "1.Random Sampling\n",
        "\n",
        "Every member of the population has an equal chance of being selected\n",
        "\n",
        "Example: Drawing names from a hat\n",
        "\n",
        "2.Systematic Sampling\n",
        "\n",
        "Select every kth member from a list\n",
        "\n",
        "Example: Every 10th customer entering a store\n",
        "\n",
        "3.Stratified Sampling\n",
        "\n",
        "Divide the population into groups (strata) and sample from each group\n",
        "\n",
        "Example: Sampling students from each grade level\n",
        "\n",
        "4.Cluster Sampling\n",
        "\n",
        "Divide the population into clusters, then randomly choose entire clusters to sample\n",
        "\n",
        "Example: Selecting whole classrooms instead of individual students\n",
        "\n",
        "5.Convenience Sampling\n",
        "\n",
        "Using a sample that’s easy to access\n",
        "\n",
        "Example: Surveying friends or nearby people (less reliable)\n",
        "\n"
      ],
      "metadata": {
        "id": "u0T-PHF-k5n2"
      }
    },
    {
      "cell_type": "markdown",
      "source": [
        "6.What are the different types of sampling methods?\n",
        "\n",
        "Ans-There are several types of sampling methods in statistics, each with different ways of selecting a sample from a population. They are generally divided into probability sampling and non-probability sampling methods.\n",
        "\n",
        "->Probability Sampling Methods:\n",
        "\n",
        "(Each member of the population has a known, non-zero chance of being selected.)\n",
        "\n",
        "1.Simple Random Sampling\n",
        "\n",
        "Every individual has an equal chance of being chosen.\n",
        "\n",
        "Example: Drawing names from a hat or using a random number generator.\n",
        "\n",
        "2.Systematic Sampling\n",
        "\n",
        "Select every kth individual from a list.\n",
        "\n",
        "Example: Choosing every 10th person on a class roster.\n",
        "\n",
        "3.Stratified Sampling\n",
        "\n",
        "Divide the population into subgroups (strata) based on characteristics (e.g., age, gender), then randomly sample from each subgroup.\n",
        "\n",
        "Example: Randomly selecting students from each grade level.\n",
        "\n",
        "4.Cluster Sampling\n",
        "\n",
        "Divide the population into clusters (e.g., geographical areas), then randomly select entire clusters and study all or some members within them.\n",
        "\n",
        "Example: Selecting a few schools and surveying all students in those schools.\n",
        "\n",
        "->Non-Probability Sampling Methods\n",
        "\n",
        "(Not every member has a known or equal chance of being selected.)\n",
        "\n",
        "1.Convenience Sampling\n",
        "\n",
        "Choose individuals who are easiest to reach.\n",
        "\n",
        "Example: Asking people nearby or using volunteers.\n",
        "\n",
        "2.Judgmental (Purposive) Sampling\n",
        "\n",
        "The researcher selects participants based on their judgment and the purpose of the study.\n",
        "\n",
        "Example: Choosing experts in a field for an interview.\n",
        "\n",
        "3.Snowball Sampling\n",
        "\n",
        "Existing participants refer other participants; used for hard-to-reach or specialized populations.\n",
        "\n",
        "Example: Studying a rare medical condition where participants suggest others they know.\n",
        "\n",
        "4.Quota Sampling\n",
        "\n",
        "The population is divided into groups, and a fixed number from each group is selected, but not randomly.\n",
        "\n",
        "Example: Selecting 50 males and 50 females for a survey.\n",
        "\n"
      ],
      "metadata": {
        "id": "ABuMS6zBm2-_"
      }
    },
    {
      "cell_type": "markdown",
      "source": [
        "7.What is the difference between random and non-random sampling?\n",
        "\n",
        "Ans-\n",
        "\n",
        "    Aspect\t      Random Sampling\t             Non-Random Sampling\n",
        "\n",
        "    Definition\tEvery member of the population   Members are selected based\n",
        "                  has a known and equal            on non-chance methods such                             \n",
        "                  chance of being selected.        as convenience or judgment.\n",
        "    \n",
        "    Bias Risk\tLow – reduces selection bias.\t High – more prone to selection\n",
        "                                                   bias.\n",
        "    \n",
        "    Represent\tMore likely to be represent       Less likely to represent\n",
        "    ativeness    ative of the population\t       the whole population\n",
        "\n",
        "    Examples\tSimple random sampling,             Convenience sampling,\n",
        "                stratified sampling,                judgmental sampling\n",
        "                cluster sampling.                    snowball sampling.\n",
        "    \n",
        "    Use Cases\tScientific studies, \t            Exploratory research,\n",
        "                  official surveys.                  limited-resource\n",
        "                                                     situations.\n",
        "    \n",
        "    Requires \tYes (sampling frame \t            Not necessarily\n",
        "    Population   is usually needed)\n",
        "    List?\n",
        "    \n",
        "->Random Sampling\n",
        "\n",
        "Goal: Fair and unbiased selection\n",
        "\n",
        "Example: Randomly selecting 100 students from a list of 1,000 using a number generator\n",
        "\n",
        "->Non-Random Sampling\n",
        "\n",
        "Goal: Quick, easy, or targeted data collection\n",
        "\n",
        "Example: Surveying people at a shopping mall because they're easy to reach    \n"
      ],
      "metadata": {
        "id": "l26V3Mbfr_mE"
      }
    },
    {
      "cell_type": "markdown",
      "source": [
        "8.Define and give examples of qualitative and quantitative data?\n",
        "\n",
        "Ans-\n",
        "\n",
        "1.Qualitative Data\n",
        "\n",
        "Definition:\n",
        "\n",
        "Qualitative data refers to non-numerical information that describes qualities or characteristics. It’s often collected using observations, interviews, or open-ended survey questions.\n",
        "\n",
        "->Key Features:\n",
        "\n",
        "1.Descriptive\n",
        "\n",
        "2.Cannot be measured with numbers\n",
        "\n",
        "3.Often categorized or labeled\n",
        "\n",
        "Examples:\n",
        "\n",
        "->Colors: \"red,\" \"blue,\" \"green\"\n",
        "\n",
        "->Opinions: \"satisfied,\" \"neutral,\" \"unsatisfied\"\n",
        "\n",
        "->Gender: \"male,\" \"female,\" \"non-binary\"\n",
        "\n",
        "->Eye color: \"brown,\" \"blue,\" \"green\"\n",
        "\n",
        "->Types of cuisine: \"Italian,\" \"Mexican,\" \"Chinese\"\n",
        "\n",
        "\n",
        "2.Quantitative Data\n",
        "\n",
        "Definition:\n",
        "\n",
        "Quantitative data refers to numerical information that can be counted or measured. It answers questions like \"how many?\" or \"how much?\"\n",
        "\n",
        "Key Features:\n",
        "\n",
        "1.Expressed in numbers\n",
        "\n",
        "2.Can be analyzed statistically\n",
        "\n",
        "3.Can be further classified into:\n",
        "\n",
        "4.Discrete data (whole numbers)\n",
        "\n",
        "5.Continuous data (measurable, can take any value)\n",
        "\n",
        "Examples:\n",
        "\n",
        "->Age: 25 years\n",
        "\n",
        "->Height: 5.8 feet\n",
        "\n",
        "->Test scores: 85 out of 100\n",
        "\n",
        "->Number of children: 3\n",
        "\n",
        "->Temperature: 36.5°C\n",
        "\n"
      ],
      "metadata": {
        "id": "qQ_sokfhzgkN"
      }
    },
    {
      "cell_type": "markdown",
      "source": [
        "9.What are the different types of data in statistics?\n",
        "\n",
        "Ans-Types of Data in Statistics\n",
        "\n",
        "In statistics, data is broadly classified into two main types: Qualitative (Categorical) and Quantitative (Numerical). Each has subtypes that help define how the data can be analyzed.\n",
        "\n",
        "1.Qualitative Data (Categorical Data)\n",
        "\n",
        "Definition: Describes qualities or categories that cannot be measured numerically.\n",
        "\n",
        "Subtypes:\n",
        "\n",
        "1.Nominal Data\n",
        "\n",
        "Definition: Categories with no natural order\n",
        "\n",
        "Examples: Gender (male/female), Eye color (blue/green/brown), Marital status\n",
        "\n",
        "2.Ordinal Data\n",
        "\n",
        "Definition: Categories with a meaningful order, but differences between values are not measurable\n",
        "\n",
        "Examples: Education level (high school, college, graduate), Customer satisfaction (poor, fair, good, excellent)\n",
        "\n",
        "2.Quantitative Data (Numerical Data)\n",
        "\n",
        "Definition: Represents measurable quantities and can be used for mathematical calculations.\n",
        "\n",
        "Subtypes:\n",
        "\n",
        "1.Discrete Data\n",
        "\n",
        "Definition: Whole numbers, countable values\n",
        "\n",
        "Examples: Number of children, Number of cars, Test scores\n",
        "\n",
        "2.Continuous Data\n",
        "\n",
        "Definition: Measurable values that can take any value within a range\n",
        "\n",
        "Examples: Height, Weight, Temperature, Time, Distance\n",
        "\n"
      ],
      "metadata": {
        "id": "6Bx04fIW07V2"
      }
    },
    {
      "cell_type": "markdown",
      "source": [
        "10.Explain nominal, ordinal, interval, and ratio levels of measurement.\n",
        "\n",
        "Ans-The four levels of measurement — nominal, ordinal, interval, and ratio — represent different ways of categorizing and quantifying data. Each level builds on the previous one and adds more meaning and mathematical power.\n",
        "\n",
        "1.Nominal Level (Categorical)\n",
        "\n",
        "Definition: Data are categorized into distinct groups without any inherent order.\n",
        "\n",
        "Examples:\n",
        "\n",
        "Gender: Male, Female, Other\n",
        "\n",
        "Blood Type: A, B, AB, O\n",
        "\n",
        "Marital Status: Single, Married, Divorced\n",
        "\n",
        "Mathematical Operations: Only counting (e.g., mode). No meaningful ordering or arithmetic.\n",
        "\n",
        "->You can label or name the data\n",
        "\n",
        "->You cannot rank or do arithmetic with it\n",
        "\n",
        "2.Ordinal Level (Ranked Order)\n",
        "\n",
        "Definition:\n",
        "\n",
        "Data are categorized with a logical order, but the intervals between values are not uniform or meaningful.\n",
        "\n",
        "Examples:\n",
        "\n",
        "Satisfaction: Very Unsatisfied, Unsatisfied, Neutral, Satisfied, Very Satisfied\n",
        "\n",
        "Education level: High School < Bachelor < Master < PhD\n",
        "\n",
        "Race placement: 1st, 2nd, 3rd\n",
        "\n",
        "Mathematical Operations: You can rank and find median, but not add or subtract values.\n",
        "\n",
        "->You can label and rank data\n",
        "\n",
        "->You cannot assume equal differences or do arithmetic\n",
        "\n",
        "3.Interval Level\n",
        "\n",
        "Definition: Ordered data with equal spacing between values, but no true zero point.\n",
        "\n",
        "Examples:\n",
        "\n",
        "Temperature in Celsius or Fahrenheit\n",
        "\n",
        "Dates in calendar years (e.g., 2000, 2025)\n",
        "\n",
        "Mathematical Operations: You can add and subtract, but ratios don’t make sense (e.g., 20°C is not “twice” as hot as 10°C).\n",
        "\n",
        "->Equal intervals\n",
        "\n",
        "->No true zero point, so ratios are meaningless\n",
        "\n",
        "4.Ratio Level\n",
        "\n",
        "Definition: Data with all the properties of interval level plus a true zero point.\n",
        "\n",
        "Examples:\n",
        "\n",
        "Height, Weight, Age, Income, Duration, Distance\n",
        "\n",
        "Mathematical Operations: All arithmetic operations (addition, subtraction, multiplication, division) are meaningful.\n",
        "\n",
        "->Equal intervals\n",
        "\n",
        "->True zero\n",
        "\n",
        "->Ratios make sense (e.g., 10 kg is twice as heavy as 5 kg)"
      ],
      "metadata": {
        "id": "EnhZBwC7oXpC"
      }
    },
    {
      "cell_type": "markdown",
      "source": [
        "11.What is the measure of central tendency?\n",
        "\n",
        "Ans-Measures of central tendency are statistical tools used to identify the center point or typical value of a dataset. They describe where most of the values in a distribution fall.\n",
        "\n",
        "The Three Main Measures:\n",
        "\n",
        "    Measure\t   Description\t    When to Use            Symbol\n",
        "\n",
        "    Mean\t     The average of \tBest for normally \t μ(population),\n",
        "                 all values         distributed data       x̄(sample)\n",
        "    \n",
        "    \n",
        "    Median\tThe middle value \tBest for skewed  \n",
        "              when data is         data or  data               _\n",
        "              ordered              with outliers\n",
        "    \n",
        "\n",
        "    Mode\t The most frequent \tBest for categorical        \n",
        "             value in the          or bimodal data             _\n",
        "             dataset.\n",
        "    \n",
        "\n",
        "\n",
        "1.Mean (Arithmetic Average)\n",
        "Formula:\n",
        "\n",
        "        Mean =∑xi/n\n",
        "\n",
        "\n",
        "where\n",
        "𝑥\n",
        "𝑖\n",
        "x\n",
        "i\n",
        "​\n",
        "  = individual data points, and\n",
        "𝑛\n",
        "n = total number of values.\n",
        "\n",
        "Example:\n",
        "For scores: 10, 15, 20 → Mean = (10 + 15 + 20) / 3 = 15\n",
        "\n",
        "2.Median\n",
        "\n",
        "Definition: The middle value when the data is arranged in ascending or descending order.\n",
        "\n",
        "If the number of values is odd, it’s the middle one.\n",
        "\n",
        "If even, it’s the average of the two middle numbers.\n",
        "\n",
        "Example:\n",
        "For: 3, 5, 7 → Median = 5\n",
        "For: 3, 5, 7, 11 → Median = (5 + 7)/2 = 6\n",
        "\n",
        "\n",
        "3.Mode\n",
        "\n",
        "Definition: The value that appears most frequently.\n",
        "\n",
        "Example:\n",
        "For: 2, 3, 3, 5, 7 → Mode = 3\n",
        "\n",
        "A dataset can be:\n",
        "\n",
        "->Unimodal (one mode)\n",
        "\n",
        "->Bimodal (two modes)\n",
        "\n",
        "->Multimodal (more than two modes)\n",
        "\n",
        "->Or have no mode\n",
        "\n"
      ],
      "metadata": {
        "id": "ayB4xmHYqKZM"
      }
    },
    {
      "cell_type": "markdown",
      "source": [
        "12.Define mean, median, and mode.\n",
        "\n",
        "Ans-\n",
        "1.Mean\n",
        "\n",
        "Definition: The average of a set of numbers.\n",
        "\n",
        "How to calculate:\n",
        "\n",
        "Add all the values and divide by how many values there are.\n",
        "\n",
        "Example:\n",
        "\n",
        "For 5, 10, 15 → Mean = (5 + 10 + 15) / 3 = 10\n",
        "\n",
        "2.Median\n",
        "\n",
        "Definition: The middle value when the numbers are arranged in order.\n",
        "\n",
        "If odd number of values: pick the middle one\n",
        "\n",
        "If even: take the average of the two middle values\n",
        "\n",
        "Example:\n",
        "\n",
        "For 3, 8, 9 → Median = 8\n",
        "\n",
        "For 2, 4, 6, 8 → Median = (4 + 6) / 2 = 5\n",
        "\n",
        "3.Mode\n",
        "\n",
        "Definition: The number that appears most often in a dataset.\n",
        "\n",
        "Example:\n",
        "\n",
        "For 2, 3, 3, 5, 7 → Mode = 3\n",
        "\n",
        "If no number repeats, there is no mode.\n",
        "\n"
      ],
      "metadata": {
        "id": "O9ezOfpfwej_"
      }
    },
    {
      "cell_type": "markdown",
      "source": [
        "13.What is the significance of the measure of central tendency?\n",
        "\n",
        "Ans-Significance of the Measure of Central Tendency\n",
        "\n",
        "The measure of central tendency (mean, median, and mode) plays a crucial role in understanding and analyzing data. Here's why it matters:\n",
        "\n",
        "1.Summarizes Large Data Sets\n",
        "\n",
        "->It provides a single value that represents a whole dataset.\n",
        "\n",
        "->Helps simplify and communicate findings clearly.\n",
        "\n",
        "Example: Saying “The average score was 85” gives a quick idea of overall performance.\n",
        "\n",
        "2.Helps Compare Groups\n",
        "\n",
        "->You can compare different groups or datasets using their central values.\n",
        "\n",
        "Example: Compare the average income of two cities to understand economic differences.\n",
        "\n",
        "3.Identifies Trends and Patterns\n",
        "\n",
        "Reveals the most common, typical, or central value in a dataset.\n",
        "\n",
        "Useful in spotting shifts in data over time (e.g., median house prices rising).\n",
        "\n",
        "4.Guides Decision-Making\n",
        "\n",
        "In business, healthcare, education, and research, central tendencies help make informed decisions.\n",
        "\n",
        "Example: A company may use average sales data to plan production.\n",
        "\n",
        "5.Supports Further Statistical Analysis\n",
        "\n",
        "->Mean is essential in calculating standard deviation, variance, and regression analysis.\n",
        "\n",
        "->Median is important when dealing with skewed distributions (e.g., income).\n",
        "\n",
        "->Mode helps in categorical data analysis.\n",
        "\n",
        "6.Deals with Data Distribution\n",
        "\n",
        "->Mean works well with symmetric data.\n",
        "\n",
        "->Median is better for skewed data or outliers.\n",
        "\n",
        "->Mode is useful for identifying the most frequent values, especially in surveys or nominal data.\n",
        "\n"
      ],
      "metadata": {
        "id": "wSnC7hqrxdTr"
      }
    },
    {
      "cell_type": "markdown",
      "source": [
        "14.What is variance, and how is it calculated?\n",
        "\n",
        "Ans-Variance is a statistical measure that shows how spread out the values in a dataset are.\n",
        "\n",
        "It tells you how far each data point is from the mean (average), and thus from each other.\n",
        "\n",
        "->If the values are close to the mean, the variance is small.\n",
        "\n",
        "->If the values are widely spread out, the variance is large.\n",
        "\n",
        "*Why Is Variance Important?\n",
        "\n",
        "->It helps understand the consistency of data.\n",
        "\n",
        "->It is used in many analyses like standard deviation, risk assessment, and data modeling.\n",
        "\n",
        "->How to Calculate Variance\n",
        "\n",
        "There are two types:\n",
        "\n",
        "1.Population Variance (σ²)\n",
        "\n",
        "    σ2=∑(xi-μ)2/N\n",
        "Where:\n",
        "\n",
        "𝑥\n",
        "𝑖\n",
        "​\n",
        "  = each data value\n",
        "\n",
        "𝜇\n",
        " = population mean\n",
        "\n",
        "𝑁\n",
        " = number of data values\n",
        "\n",
        "2.Sample Variance (s²)\n",
        "​\n",
        "     \n",
        "    s2=∑(xi-x-)2/n-1\n",
        "  \n",
        "Where:\n",
        "\n",
        "𝑥\n",
        "ˉ\n",
        "  = sample mean\n",
        "\n",
        "𝑛\n",
        " = number of data values in the sample\n",
        "\n",
        "𝑛\n",
        "−\n",
        "1 is used instead of\n",
        "𝑛 to correct bias (called Bessel’s correction)\n",
        "\n",
        "Example (Sample Variance)\n",
        "\n",
        "Dataset: 5, 7, 9\n",
        "\n",
        "Find the mean:\n",
        "\n",
        "𝑥\n",
        "ˉ\n",
        "=\n",
        "(\n",
        "5\n",
        "+\n",
        "7\n",
        "+\n",
        "9\n",
        ")\n",
        "/\n",
        "3\n",
        "=\n",
        "21\n",
        "/\n",
        "3\n",
        "=\n",
        "7\n",
        "x\n",
        "ˉ\n",
        " =(5+7+9)/3=21/3=7\n",
        "\n",
        "Calculate squared differences from the mean:\n",
        "\n",
        "(\n",
        "5\n",
        "−\n",
        "7\n",
        ")\n",
        "2\n",
        "=\n",
        "4\n",
        ",\n",
        "(\n",
        "7\n",
        "−\n",
        "7\n",
        ")\n",
        "2\n",
        "=\n",
        "0\n",
        ",\n",
        "(\n",
        "9\n",
        "−\n",
        "7\n",
        ")\n",
        "2\n",
        "=\n",
        "4\n",
        "(5−7)\n",
        "2\n",
        " =4,(7−7)\n",
        "2\n",
        " =0,(9−7)\n",
        "2\n",
        " =4\n",
        "\n",
        "Sum the squared differences:\n",
        "\n",
        "4\n",
        "+\n",
        "0\n",
        "+\n",
        "4\n",
        "=\n",
        "8\n",
        "4+0+4=8\n",
        "\n",
        "Divide by (n - 1):\n",
        "\n",
        "𝑠\n",
        "2\n",
        "=\n",
        "8\n",
        "/\n",
        "(\n",
        "3\n",
        "−\n",
        "1\n",
        ")\n",
        "=\n",
        "8\n",
        "/\n",
        "2\n",
        "=\n",
        "4\n",
        "s\n",
        "2\n",
        " =8/(3−1)=8/2=4\n",
        "    \n",
        "    Sample variance = 4\n",
        "\n",
        "\n",
        "\n",
        "  \n",
        "\n",
        "\n",
        "\n",
        "\n",
        "\n",
        "\n",
        "\n",
        "\n",
        "\n"
      ],
      "metadata": {
        "id": "HbuduLuLyZ5r"
      }
    },
    {
      "cell_type": "markdown",
      "source": [
        "15.What is standard deviation, and why is it important?\n",
        "\n",
        "Ans-Standard deviation is a measure of how spread out the numbers in a dataset are.\n",
        "\n",
        "It tells you how much the values differ from the mean (average).\n",
        "\n",
        "Definition:\n",
        "\n",
        "Standard deviation is the square root of the variance.\n",
        "\n",
        "It brings the spread back to the same unit as the original data (unlike variance, which is in squared units).\n",
        "\n",
        " Why Is Standard Deviation Important\n",
        "\n",
        "1.Measures Variability:It shows how consistent or varied your data is.\n",
        "\n",
        "2.Helps Compare Datasets:You can compare the spread of different groups, even with the same mean.\n",
        "\n",
        "3.Essential in Statistics:Used in confidence intervals, hypothesis testing, and z-scores.\n",
        "\n",
        "4.Used in Risk Analysis:In finance, a higher standard deviation means higher risk.\n",
        "\n",
        "5.Interprets Data Spread:A small SD = data is close to the mean. A large SD = data is widely spread.\n",
        "\n",
        "\n",
        "\n"
      ],
      "metadata": {
        "id": "GCOkIuRJ2VmB"
      }
    },
    {
      "cell_type": "markdown",
      "source": [
        "16.Define and explain the term range in statistics?\n",
        "\n",
        "Ans-Range is a measure of dispersion that shows the difference between the highest and lowest values in a dataset.\n",
        "\n",
        "Definition:\n",
        "\n",
        "\n",
        "    Range=Maximum Value−Minimum Value\n",
        "Explanation:\n",
        "\n",
        "*It tells you how spread out the data is.\n",
        "\n",
        "*The larger the range, the more variability in the data.\n",
        "\n",
        "*The smaller the range, the more consistent or concentrated the data values are.\n",
        "\n",
        "Example:\n",
        "\n",
        "Consider the dataset:\n",
        "\n",
        "5, 8, 12, 15, 20\n",
        "\n",
        "Maximum = 20\n",
        "\n",
        "Minimum = 5\n",
        "\n",
        "Range = 20 − 5 = 15\n",
        "\n",
        "Key Points:\n",
        "\n",
        "->Easy to calculate\n",
        "\n",
        "->Sensitive to outliers (a single very high or low value can distort it)\n",
        "\n",
        "->Gives a quick overview, but not as informative as standard deviation or variance for complex data.\n",
        "\n",
        "*When to Use It:\n",
        "\n",
        "->For small datasets or when you need a quick estimate of variability.\n",
        "\n",
        "->In preliminary data analysis before using more advanced statistics.\n",
        "\n"
      ],
      "metadata": {
        "id": "vyuTX-hA3ilo"
      }
    },
    {
      "cell_type": "markdown",
      "source": [
        "17.What is the difference between variance and standard deviation?\n",
        "\n",
        "Ans-\n",
        "\n",
        "    Feature\t      Variance\t                  Standard Deviation\n",
        "\n",
        "    1.Units\t   Squared units \t            Same as original data (e.g.,\n",
        "                (e.g., cm², kg²)                cm, kg)\n",
        "    \n",
        "    \n",
        "    2.Interpret\tLess intuitive\t           Easier to understand and\n",
        "      ability                                   compare\n",
        "   \n",
        "    3.Use\t    In calculations \t          For interpretation and\n",
        "                 (e.g., ANOVA)                 reporting\n",
        "\n",
        "\n",
        "    4.Relationship\tIt's the square of  \tIt's the square root\n",
        "                      the standard             of the variance\n",
        "                       deviation\n",
        "    "
      ],
      "metadata": {
        "id": "AbvDaOBV4hic"
      }
    },
    {
      "cell_type": "markdown",
      "source": [
        "18.What is skewness in a dataset?\n",
        "\n",
        "Ans- Skewness in a Dataset-\n",
        "\n",
        "Skewness is a measure of the asymmetry of a data distribution around its mean.\n",
        "\n",
        "Definition:\n",
        "\n",
        "->Skewness tells us whether the data is balanced or lopsided.\n",
        "\n",
        "->A perfectly symmetrical dataset has zero skewness.\n",
        "\n",
        "Why is Skewness Important-\n",
        "\n",
        "->Helps identify outliers or non-normal distributions\n",
        "\n",
        "->Affects choice of statistical tests (some tests assume symmetry)\n",
        "\n",
        "->Useful in finance, data science, and quality control\n",
        "\n"
      ],
      "metadata": {
        "id": "UYuoN-oq65ef"
      }
    },
    {
      "cell_type": "markdown",
      "source": [
        "19.What does it mean if a dataset is positively or negatively skewed?\n",
        "\n",
        "Ans-Skewness describes the asymmetry of a dataset’s distribution. It tells us whether the tail of the data is stretched more to the left or right.\n",
        "\n",
        "1.Positively Skewed (Right Skewed)\n",
        "\n",
        "->What it means:\n",
        "\n",
        "1.Most of the data values are clustered on the lower end.\n",
        "\n",
        "2.The tail extends to the right (towards higher values).\n",
        "\n",
        "3.There may be a few high outliers.\n",
        "\n",
        "*Characteristics:\n",
        "\n",
        "->Mean > Median > Mode\n",
        "\n",
        "->Example: Income distribution (most people earn average/lower, a few earn much more)\n",
        "\n",
        "2.Negatively Skewed (Left Skewed)\n",
        "\n",
        "What it means:\n",
        "\n",
        "1.Most data values are clustered on the higher end.\n",
        "\n",
        "2.The tail extends to the left (towards lower values).\n",
        "\n",
        "3.There may be a few low outliers.\n",
        "\n",
        "Characteristics:\n",
        "\n",
        "->Mean < Median < Mode\n",
        "\n",
        "->Example: Age at retirement (most people retire at similar ages, some retire much earlier)"
      ],
      "metadata": {
        "id": "y3rH2nLG7h7p"
      }
    },
    {
      "cell_type": "markdown",
      "source": [
        "20.Define and explain kurtosis?\n",
        "\n",
        "Ans-Kurtosis is a statistical measure that describes the \"tailedness\" of a data distribution — in other words, how heavy or light the tails are compared to a normal distribution.\n",
        "\n",
        "Definition:\n",
        "\n",
        "Kurtosis measures the extremes (outliers) in a dataset.\n",
        "\n",
        "It tells us whether the data produce more or fewer outliers than a normal (bell-shaped) distribution.\n",
        "\n",
        "Types of Kurtosis:\n",
        "\n",
        "    Type\t                   Description\n",
        "    \n",
        "    1.Mesokurtic\t          Normal distribution\n",
        "\n",
        "    2.Leptokurtic\t         High positive kurtosis (> 0)\n",
        "    \n",
        "    3.Platykurtic\t         Negative kurtosis (< 0)\n",
        "\n",
        "*Why is Kurtosis Important:\n",
        "\n",
        "1.Helps detect outliers and risk in data.\n",
        "\n",
        "2.Used in finance to measure market volatility.\n",
        "\n",
        "3.Important in quality control, data analysis, and statistical modeling.\n"
      ],
      "metadata": {
        "id": "EBLThrG-8kC7"
      }
    },
    {
      "cell_type": "markdown",
      "source": [
        "21.What is the purpose of covariance?\n",
        "\n",
        "Ans-Covariance measures how two variables change together. It helps identify the direction of the relationship between them.\n",
        "\n",
        "Purpose of Covariance:\n",
        "\n",
        "1.Measure Relationship-Covariance shows whether two variables increase or decrease together.\n",
        "\n",
        "2.Positive Covariance-Both variables move in the same direction (e.g., as one increases, the other increases).\n",
        "\n",
        "3.Negative Covariance-Variables move in opposite directions (e.g., as one increases, the other decreases).\n",
        "\n",
        "4.Data Analysis Tool-Used in multivariate statistics, machine learning, and finance to understand relationships.\n",
        "\n",
        "5.Basis for Correlation-Covariance is a building block of correlation, which also includes the strength of the relationship.\n",
        "\n"
      ],
      "metadata": {
        "id": "k27wdLmi951j"
      }
    },
    {
      "cell_type": "markdown",
      "source": [
        "22.What does correlation measure in statistics?\n",
        "\n",
        "Ans-Correlation measures the strength and direction of the linear relationship between two variables.\n",
        "\n",
        "Key Points:\n",
        "\n",
        "    Feature\t             Description\n",
        "\n",
        "    Range\t               Always between –1 and +1\n",
        "\n",
        "    +1\t                  Perfect positive correlation (both\n",
        "                            variables increase together)\n",
        "\n",
        "    –1\t                 Perfect negative correlation (one\n",
        "                           increases, the other decreases)\n",
        "\n",
        "    0\t                   No linear relationship"
      ],
      "metadata": {
        "id": "igqVD9EU_jF7"
      }
    },
    {
      "cell_type": "markdown",
      "source": [
        "23.What is the difference between covariance and correlation?\n",
        "\n",
        "Ans-\n",
        "\n",
        "    Feature\t        Covariance\t           Correlation\n",
        "\n",
        "    1.Definition\tMeasures how two \t     Measures strength & direction\n",
        "                    variables change          of their relationship\n",
        "                    together\n",
        "    \n",
        "\n",
        "    2.Scale\t    Not standardized —        Standardized —  always between\n",
        "                   values can be             –1 and +1\n",
        "                   any number\n",
        "    \n",
        "\n",
        "    3.Interpre\tHard to interpret \t     Easy to interpret:  closer to +1\n",
        "      tation       without units             or –1 means stronger\n",
        "                                             relationship\n",
        "\n",
        "    4.Units\t   Product of units \t      Unitless (dimensionless)\n",
        "                 (e.g., cm × kg)\n",
        "\n",
        "    5.Range\tNo fixed range (–∞ to +∞)\t  Always from –1 to +1\n",
        "     \n",
        "    6.Positive  Both variables tend\t      Same, but Value  with\n",
        "                 to increase together        strength info\n",
        "      \n",
        "    7.Negative \tOne increases while \t   Same Value\n",
        "                  the other decreases\n",
        "       \n",
        "      \n",
        "    8.Use Case\tUsed in portfolio \t    Used in  statistics,\n",
        "                  theory, signal            regression, machine\n",
        "                  processing                learning\n",
        "    \n",
        "\n"
      ],
      "metadata": {
        "id": "PeBKc9MTA2bJ"
      }
    },
    {
      "cell_type": "markdown",
      "source": [
        "24.What are some real-world applications of statistics?\n",
        "\n",
        "Ans-Statistics is used in nearly every field to collect, analyze, interpret, and present data to make informed decisions. Here's how it's applied across industries:\n",
        "\n",
        "1.Healthcare\n",
        "\n",
        "->Clinical trials: Analyzing effectiveness of new drugs or treatments.\n",
        "\n",
        "->Epidemiology: Tracking disease outbreaks (e.g., COVID-19 data analysis).\n",
        "\n",
        "->Patient care: Monitoring hospital performance or patient recovery trends.\n",
        "\n",
        "2.Business and Marketing\n",
        "\n",
        "->Market research: Understanding customer preferences using surveys and sampling.\n",
        "\n",
        "->Sales forecasting: Predicting future demand using historical data.\n",
        "\n",
        "->A/B testing: Comparing product versions to increase conversion rates.\n",
        "\n",
        "3.Finance and Economics\n",
        "\n",
        "->Risk analysis: Using standard deviation and variance in stock market predictions.\n",
        "\n",
        "->Credit scoring: Analyzing borrower behavior to assess loan risk.\n",
        "\n",
        "->Economic modeling: Understanding inflation, GDP, and employment trends.\n",
        "\n",
        "4.Science and Research\n",
        "\n",
        "->Hypothesis testing: Drawing conclusions from experiments.\n",
        "\n",
        "->Data visualization: Interpreting complex scientific data (e.g., gene expression).\n",
        "\n",
        "->Environmental statistics: Measuring pollution levels or climate change impacts.\n",
        "\n",
        "5.Education\n",
        "\n",
        "->Assessment analysis: Comparing student performance using mean and standard deviation.\n",
        "\n",
        "->Curriculum evaluation: Measuring effectiveness of teaching methods.\n",
        "\n",
        "->Standardized testing: Ensuring fair comparisons (e.g., SAT, GRE).\n",
        "\n",
        "6.Government and Public Policy\n",
        "\n",
        "->Census data: Planning infrastructure, healthcare, and education services.\n",
        "\n",
        "->Crime statistics: Analyzing crime trends to deploy law enforcement.\n",
        "\n",
        "->Budget allocation: Using data to prioritize spending.\n",
        "\n",
        "7.Artificial Intelligence & Machine Learning\n",
        "\n",
        "->Data preprocessing: Statistical techniques to clean and normalize data.\n",
        "\n",
        "->Model evaluation: Using metrics like accuracy, precision, recall.\n",
        "\n",
        "->Pattern recognition: Learning from statistical trends in big data.\n",
        "\n",
        "8.Sports Analytics\n",
        "\n",
        "->Player performance analysis: Using averages, win probabilities.\n",
        "\n",
        "->Game strategy: Real-time data helps with coaching decisions.\n",
        "\n",
        "->Fantasy leagues: Based on predictive statistics.\n",
        "\n"
      ],
      "metadata": {
        "id": "a-eFoIhnFv1S"
      }
    },
    {
      "cell_type": "markdown",
      "source": [
        "**PRACTICAL**"
      ],
      "metadata": {
        "id": "KxmweApTGsns"
      }
    },
    {
      "cell_type": "markdown",
      "source": [
        "1.How do you calculate the mean, median, and mode of a dataset\n",
        "\n",
        "Ans-These are the three measures of central tendency — used to describe the center or typical value in a dataset.\n",
        "\n",
        "1.Mean (Average)\n",
        "Formula:\n",
        "\n",
        "    Mean = sum of  all values/Number of values\n",
        "    \n",
        "Example:\n",
        "\n",
        "Dataset: 4, 8, 6, 5, 3\n",
        "\n",
        "Mean\n",
        "=\n",
        "4\n",
        "+\n",
        "8\n",
        "+\n",
        "6\n",
        "+\n",
        "5\n",
        "+\n",
        "3\n",
        "5\n",
        "=\n",
        "26\n",
        "/\n",
        "5\n",
        "=\n",
        "5.2\n",
        "\n",
        "2.Median (Middle Value)\n",
        "\n",
        "Steps:\n",
        "\n",
        "*Arrange the values in ascending order.\n",
        "\n",
        "*If odd number of values → middle one is the median.\n",
        "\n",
        "*If even number of values → median = average of two middle numbers.\n",
        "\n",
        "Example 1 (odd count):\n",
        "\n",
        "Dataset: 3, 4, 5, 6, 8 → Median = 5\n",
        "\n",
        "Example 2 (even count):\n",
        "\n",
        "Dataset: 3, 4, 5, 6 → Median =\n",
        "4\n",
        "+\n",
        "5\n",
        "/\n",
        "2\n",
        "=\n",
        "4.5\n",
        "\n",
        "3.Mode (Most Frequent Value)\n",
        "\n",
        "The value that appears most often in the dataset.\n",
        "\n",
        "Example 1:\n",
        "\n",
        "Dataset: 3, 4, 4, 5, 6 → Mode = 4\n",
        "\n",
        "Example 2:\n",
        "\n",
        "Dataset: 2, 3, 4, 5 → No mode (all values are unique)\n",
        "\n",
        "Example 3:\n",
        "\n",
        "Dataset: 1, 2, 2, 3, 3 → Bimodal (Modes = 2 and 3)\n",
        "\n"
      ],
      "metadata": {
        "id": "sLYLqM7jGz4A"
      }
    },
    {
      "cell_type": "markdown",
      "source": [
        "2.Write a Python program to compute the variance and standard deviation of a dataset."
      ],
      "metadata": {
        "id": "G9uMO336I-aW"
      }
    },
    {
      "cell_type": "code",
      "source": [
        "# Sample dataset\n",
        "data = [4, 8, 6, 5, 3]\n",
        "\n",
        "# Step 1: Calculate the mean\n",
        "mean = sum(data) / len(data)\n",
        "\n",
        "# Step 2: Calculate variance\n",
        "squared_diffs = [(x - mean) ** 2 for x in data]\n",
        "variance = sum(squared_diffs) / len(data)  # Population variance\n",
        "# For sample variance use: len(data) - 1 instead of len(data)\n",
        "\n",
        "# Step 3: Calculate standard deviation\n",
        "std_deviation = variance ** 0.5\n",
        "\n",
        "# Output\n",
        "print(f\"Data: {data}\")\n",
        "print(f\"Mean: {mean}\")\n",
        "print(f\"Variance: {variance}\")\n",
        "print(f\"Standard Deviation: {std_deviation}\")\n"
      ],
      "metadata": {
        "colab": {
          "base_uri": "https://localhost:8080/"
        },
        "id": "UP57d5CtJFwa",
        "outputId": "4a4fa915-17ac-40e6-fabf-070ca8d412c7"
      },
      "execution_count": 1,
      "outputs": [
        {
          "output_type": "stream",
          "name": "stdout",
          "text": [
            "Data: [4, 8, 6, 5, 3]\n",
            "Mean: 5.2\n",
            "Variance: 2.96\n",
            "Standard Deviation: 1.7204650534085253\n"
          ]
        }
      ]
    },
    {
      "cell_type": "markdown",
      "source": [
        "3.Create a dataset and classify it into nominal, ordinal, interval, and ratio types.\n",
        "\n",
        "Ans-![Screenshot 2025-06-05 134717.png](data:image/png;base64,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)\n",
        "\n",
        "\n",
        "    Variable   Type    Explanation\n",
        "   \n",
        "    1.Name\t->Nominal->\tJust labels or categories (no order)\n",
        "\n",
        "    2.Gender->\tNominal\t->Categories: Male/Female (unordered)\n",
        "\n",
        "    3.Grade Level->\tOrdinal->\tOrdered categories (10th < 11th < 12th)\n",
        "    \n",
        "    4.Satisfaction (1–5)->\tOrdinal->\tOrdered scale, but differences between values not exactly equal\n",
        "    \n",
        "    5.Temperature (°C)->\tInterval->\tEqual differences, but no true zero (0°C ≠ no temperature)\n",
        "\n",
        "    6.Height (cm)\t->Ratio->\tHas a true zero, and comparisons like \"twice as tall\" are meaningful\n",
        "\n",
        "    7.Age (years)\t->Ratio->\tHas a true zero and can compute ratios (e.g., 20 is twice as old as 10)\n",
        "\n",
        "    Type\tDescription\n",
        "\n",
        "    1.Nominal:Categories without order (e.g., gender, colors)\n",
        "\n",
        "    2.Ordinal:Ordered categories (e.g., satisfaction levels)\n",
        "\n",
        "    3.Interval:Ordered with equal intervals, but no true zero (e.g., temperature in °C)\n",
        "\n",
        "    4.Ratio:Like interval, but with a meaningful zero (e.g., height, weight, age)\n",
        "\n"
      ],
      "metadata": {
        "id": "_mQB0DUbJRxB"
      }
    },
    {
      "cell_type": "markdown",
      "source": [
        "4.Implement sampling techniques like random sampling and stratified sampling?"
      ],
      "metadata": {
        "id": "Oc5RbKzqPRni"
      }
    },
    {
      "cell_type": "code",
      "source": [
        "import pandas as pd\n",
        "import numpy as np\n",
        "from sklearn.model_selection import train_test_split\n",
        "\n",
        "# Sample dataset\n",
        "data = pd.DataFrame({\n",
        "    'Name': ['Alice', 'Bob', 'Charlie', 'Diana', 'Ethan', 'Fiona', 'George', 'Hannah'],\n",
        "    'Gender': ['Female', 'Male', 'Male', 'Female', 'Male', 'Female', 'Male', 'Female'],\n",
        "    'Age': [15, 17, 16, 15, 17, 16, 18, 15],\n",
        "    'Grade Level': ['10th', '12th', '11th', '10th', '12th', '11th', '12th', '10th']\n",
        "})\n",
        "\n",
        "print(\"Original Dataset:\\n\", data)\n",
        "\n",
        "# --------------------------------------------\n",
        "# RANDOM SAMPLING\n",
        "# --------------------------------------------\n",
        "random_sample = data.sample(n=4, random_state=42)\n",
        "print(\"\\nRandom Sample (n=4):\\n\", random_sample)\n",
        "\n",
        "# --------------------------------------------\n",
        "# STRATIFIED SAMPLING by 'Gender'\n",
        "# --------------------------------------------\n",
        "# We'll sample 50% of each gender group\n",
        "# Updated Stratified Sampling (avoids deprecation warning)\n",
        "stratified_sample = (\n",
        "    data.groupby('Gender', group_keys=False)\n",
        "        .apply(lambda x: x.sample(frac=0.5, random_state=42), include_groups=False)\n",
        ")\n",
        "\n",
        "print(\"\\nStratified Sample by Gender (50% each group):\\n\", stratified_sample)\n"
      ],
      "metadata": {
        "colab": {
          "base_uri": "https://localhost:8080/"
        },
        "id": "jlnEjyNBV5qY",
        "outputId": "5ce3eaae-404d-4d08-a950-987058e6f105"
      },
      "execution_count": 5,
      "outputs": [
        {
          "output_type": "stream",
          "name": "stdout",
          "text": [
            "Original Dataset:\n",
            "       Name  Gender  Age Grade Level\n",
            "0    Alice  Female   15        10th\n",
            "1      Bob    Male   17        12th\n",
            "2  Charlie    Male   16        11th\n",
            "3    Diana  Female   15        10th\n",
            "4    Ethan    Male   17        12th\n",
            "5    Fiona  Female   16        11th\n",
            "6   George    Male   18        12th\n",
            "7   Hannah  Female   15        10th\n",
            "\n",
            "Random Sample (n=4):\n",
            "      Name  Gender  Age Grade Level\n",
            "1     Bob    Male   17        12th\n",
            "5   Fiona  Female   16        11th\n",
            "0   Alice  Female   15        10th\n",
            "7  Hannah  Female   15        10th\n",
            "\n",
            "Stratified Sample by Gender (50% each group):\n",
            "       Name  Age Grade Level\n",
            "3    Diana   15        10th\n",
            "7   Hannah   15        10th\n",
            "2  Charlie   16        11th\n",
            "6   George   18        12th\n"
          ]
        }
      ]
    },
    {
      "cell_type": "markdown",
      "source": [
        "5.Write a Python function to calculate the range of a dataset."
      ],
      "metadata": {
        "id": "xPcIbR4uW7T9"
      }
    },
    {
      "cell_type": "code",
      "source": [
        "def calculate_range(data):\n",
        "    if not data:\n",
        "        return None  # Handle empty dataset\n",
        "    return max(data) - min(data)\n",
        "\n",
        "# Example usage\n",
        "dataset = [4, 8, 6, 5, 3]\n",
        "result = calculate_range(dataset)\n",
        "\n",
        "print(f\"Dataset: {dataset}\")\n",
        "print(f\"Range: {result}\")\n"
      ],
      "metadata": {
        "colab": {
          "base_uri": "https://localhost:8080/"
        },
        "id": "bz2YhbWXXP3-",
        "outputId": "74f8bfd2-0805-4083-ef76-2696f50b0d02"
      },
      "execution_count": 6,
      "outputs": [
        {
          "output_type": "stream",
          "name": "stdout",
          "text": [
            "Dataset: [4, 8, 6, 5, 3]\n",
            "Range: 5\n"
          ]
        }
      ]
    },
    {
      "cell_type": "markdown",
      "source": [
        "6.Create a dataset and plot its histogram to visualize skewness"
      ],
      "metadata": {
        "id": "YJ7fAPDOXg5R"
      }
    },
    {
      "cell_type": "code",
      "source": [
        "pip install matplotlib seaborn numpy\n"
      ],
      "metadata": {
        "colab": {
          "base_uri": "https://localhost:8080/"
        },
        "id": "uh6-CycVXq4i",
        "outputId": "e3aef645-1dd7-4812-b88c-1516a27bcb0e"
      },
      "execution_count": 7,
      "outputs": [
        {
          "output_type": "stream",
          "name": "stdout",
          "text": [
            "Requirement already satisfied: matplotlib in /usr/local/lib/python3.11/dist-packages (3.10.0)\n",
            "Requirement already satisfied: seaborn in /usr/local/lib/python3.11/dist-packages (0.13.2)\n",
            "Requirement already satisfied: numpy in /usr/local/lib/python3.11/dist-packages (2.0.2)\n",
            "Requirement already satisfied: contourpy>=1.0.1 in /usr/local/lib/python3.11/dist-packages (from matplotlib) (1.3.2)\n",
            "Requirement already satisfied: cycler>=0.10 in /usr/local/lib/python3.11/dist-packages (from matplotlib) (0.12.1)\n",
            "Requirement already satisfied: fonttools>=4.22.0 in /usr/local/lib/python3.11/dist-packages (from matplotlib) (4.58.1)\n",
            "Requirement already satisfied: kiwisolver>=1.3.1 in /usr/local/lib/python3.11/dist-packages (from matplotlib) (1.4.8)\n",
            "Requirement already satisfied: packaging>=20.0 in /usr/local/lib/python3.11/dist-packages (from matplotlib) (24.2)\n",
            "Requirement already satisfied: pillow>=8 in /usr/local/lib/python3.11/dist-packages (from matplotlib) (11.2.1)\n",
            "Requirement already satisfied: pyparsing>=2.3.1 in /usr/local/lib/python3.11/dist-packages (from matplotlib) (3.2.3)\n",
            "Requirement already satisfied: python-dateutil>=2.7 in /usr/local/lib/python3.11/dist-packages (from matplotlib) (2.9.0.post0)\n",
            "Requirement already satisfied: pandas>=1.2 in /usr/local/lib/python3.11/dist-packages (from seaborn) (2.2.2)\n",
            "Requirement already satisfied: pytz>=2020.1 in /usr/local/lib/python3.11/dist-packages (from pandas>=1.2->seaborn) (2025.2)\n",
            "Requirement already satisfied: tzdata>=2022.7 in /usr/local/lib/python3.11/dist-packages (from pandas>=1.2->seaborn) (2025.2)\n",
            "Requirement already satisfied: six>=1.5 in /usr/local/lib/python3.11/dist-packages (from python-dateutil>=2.7->matplotlib) (1.17.0)\n"
          ]
        }
      ]
    },
    {
      "cell_type": "code",
      "source": [
        "import numpy as np\n",
        "import matplotlib.pyplot as plt\n",
        "import seaborn as sns\n",
        "from scipy.stats import skew\n",
        "\n",
        "# Create a positively skewed dataset\n",
        "data = np.random.exponential(scale=2.0, size=1000)\n",
        "\n",
        "# Calculate skewness\n",
        "skewness_value = skew(data)\n",
        "\n",
        "# Plot histogram\n",
        "plt.figure(figsize=(8, 5))\n",
        "sns.histplot(data, bins=30, kde=True, color='skyblue')\n",
        "plt.title(f\"Histogram of Data (Skewness = {skewness_value:.2f})\")\n",
        "plt.xlabel(\"Value\")\n",
        "plt.ylabel(\"Frequency\")\n",
        "plt.grid(True)\n",
        "plt.show()\n"
      ],
      "metadata": {
        "colab": {
          "base_uri": "https://localhost:8080/",
          "height": 487
        },
        "id": "KbadxqRoXurJ",
        "outputId": "670a7432-4db3-45af-ec28-a19d551f1744"
      },
      "execution_count": 8,
      "outputs": [
        {
          "output_type": "display_data",
          "data": {
            "text/plain": [
              "<Figure size 800x500 with 1 Axes>"
            ],
            "image/png": "[encoded data removed]"
          },
          "metadata": {}
        }
      ]
    },
    {
      "cell_type": "markdown",
      "source": [
        "7.Calculate skewness and kurtosis of a dataset using Python libraries."
      ],
      "metadata": {
        "id": "Y-eAiTiSX1CS"
      }
    },
    {
      "cell_type": "code",
      "source": [
        "pip install scipy pandas\n"
      ],
      "metadata": {
        "colab": {
          "base_uri": "https://localhost:8080/"
        },
        "id": "dLLnWP4OYAeu",
        "outputId": "1d6242c5-96a3-4a05-a120-4ad580f66e33"
      },
      "execution_count": 9,
      "outputs": [
        {
          "output_type": "stream",
          "name": "stdout",
          "text": [
            "Requirement already satisfied: scipy in /usr/local/lib/python3.11/dist-packages (1.15.3)\n",
            "Requirement already satisfied: pandas in /usr/local/lib/python3.11/dist-packages (2.2.2)\n",
            "Requirement already satisfied: numpy<2.5,>=1.23.5 in /usr/local/lib/python3.11/dist-packages (from scipy) (2.0.2)\n",
            "Requirement already satisfied: python-dateutil>=2.8.2 in /usr/local/lib/python3.11/dist-packages (from pandas) (2.9.0.post0)\n",
            "Requirement already satisfied: pytz>=2020.1 in /usr/local/lib/python3.11/dist-packages (from pandas) (2025.2)\n",
            "Requirement already satisfied: tzdata>=2022.7 in /usr/local/lib/python3.11/dist-packages (from pandas) (2025.2)\n",
            "Requirement already satisfied: six>=1.5 in /usr/local/lib/python3.11/dist-packages (from python-dateutil>=2.8.2->pandas) (1.17.0)\n"
          ]
        }
      ]
    },
    {
      "cell_type": "code",
      "source": [
        "import pandas as pd\n",
        "from scipy.stats import skew, kurtosis\n",
        "\n",
        "# Sample dataset (you can replace this with your own)\n",
        "data = [4, 8, 6, 5, 3, 7, 9, 10, 2, 6]\n",
        "\n",
        "# Calculate skewness\n",
        "skewness_val = skew(data)\n",
        "\n",
        "# Calculate kurtosis\n",
        "kurtosis_val = kurtosis(data)  # By default, Fisher’s definition (normal dist = 0)\n",
        "\n",
        "# Print results\n",
        "print(f\"Dataset: {data}\")\n",
        "print(f\"Skewness: {skewness_val:.2f}\")\n",
        "print(f\"Kurtosis: {kurtosis_val:.2f}\")\n"
      ],
      "metadata": {
        "colab": {
          "base_uri": "https://localhost:8080/"
        },
        "id": "kJEVeeWiYDcJ",
        "outputId": "e23b29a5-323f-4435-bfe2-22dd0e5f9ba3"
      },
      "execution_count": 10,
      "outputs": [
        {
          "output_type": "stream",
          "name": "stdout",
          "text": [
            "Dataset: [4, 8, 6, 5, 3, 7, 9, 10, 2, 6]\n",
            "Skewness: 0.00\n",
            "Kurtosis: -1.03\n"
          ]
        }
      ]
    },
    {
      "cell_type": "markdown",
      "source": [
        "8.Generate a dataset and demonstrate positive and negative skewness."
      ],
      "metadata": {
        "id": "a-2ytElvYH2u"
      }
    },
    {
      "cell_type": "code",
      "source": [
        "import numpy as np\n",
        "import matplotlib.pyplot as plt\n",
        "import seaborn as sns\n",
        "from scipy.stats import skew\n",
        "\n",
        "# Generate datasets\n",
        "positive_skew = np.random.exponential(scale=2.0, size=1000)   # Right-skewed\n",
        "negative_skew = -np.random.exponential(scale=2.0, size=1000)  # Left-skewed\n",
        "\n",
        "# Calculate skewness\n",
        "pos_skew_val = skew(positive_skew)\n",
        "neg_skew_val = skew(negative_skew)\n",
        "\n",
        "# Plot side-by-side histograms\n",
        "fig, axes = plt.subplots(1, 2, figsize=(14, 5))\n",
        "\n",
        "# Positive skew\n",
        "sns.histplot(positive_skew, bins=30, kde=True, color='skyblue', ax=axes[0])\n",
        "axes[0].set_title(f\"Positive Skew (Skewness = {pos_skew_val:.2f})\")\n",
        "axes[0].set_xlabel(\"Value\")\n",
        "axes[0].set_ylabel(\"Frequency\")\n",
        "\n",
        "# Negative skew\n",
        "sns.histplot(negative_skew, bins=30, kde=True, color='salmon', ax=axes[1])\n",
        "axes[1].set_title(f\"Negative Skew (Skewness = {neg_skew_val:.2f})\")\n",
        "axes[1].set_xlabel(\"Value\")\n",
        "axes[1].set_ylabel(\"Frequency\")\n",
        "\n",
        "plt.tight_layout()\n",
        "plt.show()\n"
      ],
      "metadata": {
        "colab": {
          "base_uri": "https://localhost:8080/",
          "height": 425
        },
        "id": "jEdTtM1FYVWh",
        "outputId": "1c9cd1cf-4c4e-4056-ea62-d0d639293f06"
      },
      "execution_count": 12,
      "outputs": [
        {
          "output_type": "display_data",
          "data": {
            "text/plain": [
              "<Figure size 1400x500 with 2 Axes>"
            ],
            "image/png": "[encoded data removed]"
          },
          "metadata": {}
        }
      ]
    },
    {
      "cell_type": "markdown",
      "source": [
        "9.Write a Python script to calculate covariance between two datasets."
      ],
      "metadata": {
        "id": "QDA3ooXTYpFM"
      }
    },
    {
      "cell_type": "code",
      "source": [
        "import numpy as np\n",
        "\n",
        "def calculate_covariance(x, y):\n",
        "    if len(x) != len(y):\n",
        "        raise ValueError(\"Datasets must be of equal length\")\n",
        "\n",
        "    mean_x = np.mean(x)\n",
        "    mean_y = np.mean(y)\n",
        "\n",
        "    covariance = np.sum((x - mean_x) * (y - mean_y)) / (len(x) - 1)\n",
        "    return covariance\n",
        "\n",
        "# Example datasets\n",
        "x = np.array([2, 4, 6, 8, 10])\n",
        "y = np.array([1, 3, 5, 7, 9])\n",
        "\n",
        "# Calculate covariance\n",
        "cov = calculate_covariance(x, y)\n",
        "print(f\"Covariance: {cov}\")\n"
      ],
      "metadata": {
        "colab": {
          "base_uri": "https://localhost:8080/"
        },
        "id": "HMio4sFDYvti",
        "outputId": "22323c99-eb5d-49a3-d838-f772a0e7e3d9"
      },
      "execution_count": 13,
      "outputs": [
        {
          "output_type": "stream",
          "name": "stdout",
          "text": [
            "Covariance: 10.0\n"
          ]
        }
      ]
    },
    {
      "cell_type": "markdown",
      "source": [
        "10.Write a Python script to calculate the correlation coefficient between two datasets"
      ],
      "metadata": {
        "id": "X8af45lSY4O2"
      }
    },
    {
      "cell_type": "code",
      "source": [
        "import numpy as np\n",
        "\n",
        "def calculate_correlation(x, y):\n",
        "    if len(x) != len(y):\n",
        "        raise ValueError(\"Datasets must be of equal length\")\n",
        "\n",
        "    mean_x = np.mean(x)\n",
        "    mean_y = np.mean(y)\n",
        "\n",
        "    numerator = np.sum((x - mean_x) * (y - mean_y))\n",
        "    denominator = np.sqrt(np.sum((x - mean_x)**2) * np.sum((y - mean_y)**2))\n",
        "\n",
        "    correlation = numerator / denominator\n",
        "    return correlation\n",
        "\n",
        "# Example datasets\n",
        "x = np.array([2, 4, 6, 8, 10])\n",
        "y = np.array([1, 3, 5, 7, 9])\n",
        "\n",
        "# Calculate correlation coefficient\n",
        "r = calculate_correlation(x, y)\n",
        "print(f\"Correlation Coefficient: {r:.2f}\")\n"
      ],
      "metadata": {
        "colab": {
          "base_uri": "https://localhost:8080/"
        },
        "id": "Pa5VmlgiZCHr",
        "outputId": "9df6bc7e-97bb-4312-f9ca-9ea32cacfffb"
      },
      "execution_count": 14,
      "outputs": [
        {
          "output_type": "stream",
          "name": "stdout",
          "text": [
            "Correlation Coefficient: 1.00\n"
          ]
        }
      ]
    },
    {
      "cell_type": "markdown",
      "source": [
        "11.Create a scatter plot to visualize the relationship between two variables"
      ],
      "metadata": {
        "id": "9QsJP7rtZMq9"
      }
    },
    {
      "cell_type": "code",
      "source": [
        "import numpy as np\n",
        "import matplotlib.pyplot as plt\n",
        "import seaborn as sns\n",
        "\n",
        "# Example datasets\n",
        "x = np.array([1, 2, 3, 4, 5, 6, 7])\n",
        "y = np.array([2, 4, 5, 4, 5, 7, 8])\n",
        "\n",
        "# Create scatter plot\n",
        "plt.figure(figsize=(8, 5))\n",
        "sns.scatterplot(x=x, y=y, color='dodgerblue', s=70)\n",
        "\n",
        "# Add title and labels\n",
        "plt.title(\"Scatter Plot of X vs Y\")\n",
        "plt.xlabel(\"X Values\")\n",
        "plt.ylabel(\"Y Values\")\n",
        "plt.grid(True)\n",
        "plt.tight_layout()\n",
        "plt.show()\n"
      ],
      "metadata": {
        "colab": {
          "base_uri": "https://localhost:8080/",
          "height": 507
        },
        "id": "FvM31E_HZS0u",
        "outputId": "bfc6e378-563b-430c-f588-127f412715ab"
      },
      "execution_count": 15,
      "outputs": [
        {
          "output_type": "display_data",
          "data": {
            "text/plain": [
              "<Figure size 800x500 with 1 Axes>"
            ],
            "image/png": "[encoded data removed]"
          },
          "metadata": {}
        }
      ]
    },
    {
      "cell_type": "markdown",
      "source": [
        "12.Implement and compare simple random sampling and systematic sampling"
      ],
      "metadata": {
        "id": "ZcRjD92RZdrO"
      }
    },
    {
      "cell_type": "code",
      "source": [
        "import numpy as np\n",
        "\n",
        "# Example population dataset (e.g., 100 numbers)\n",
        "population = np.arange(1, 101)\n",
        "\n",
        "def simple_random_sampling(population, sample_size):\n",
        "    return np.random.choice(population, size=sample_size, replace=False)\n",
        "\n",
        "def systematic_sampling(population, sample_size):\n",
        "    N = len(population)\n",
        "    k = N // sample_size  # Sampling interval\n",
        "    start = np.random.randint(0, k)  # Random start between 0 and k-1\n",
        "\n",
        "    # Select every k-th element starting from 'start'\n",
        "    indices = np.arange(start, start + k*sample_size, k) % N\n",
        "    return population[indices]\n",
        "\n",
        "# Sample size\n",
        "sample_size = 10\n",
        "\n",
        "# Get samples\n",
        "random_sample = simple_random_sampling(population, sample_size)\n",
        "systematic_sample = systematic_sampling(population, sample_size)\n",
        "\n",
        "print(\"Population:\", population.tolist())  # Convert entire array to list for clean print\n",
        "print(\"\\nSimple Random Sample:\", sorted(random_sample.tolist()))  # Convert sample to list\n",
        "print(\"\\nSystematic Sample:\", sorted(systematic_sample.tolist()))  # Convert sample to list\n"
      ],
      "metadata": {
        "colab": {
          "base_uri": "https://localhost:8080/"
        },
        "id": "q2zuRiu2ZkxT",
        "outputId": "197d6727-a384-4f48-bd33-bac84b04571f"
      },
      "execution_count": 17,
      "outputs": [
        {
          "output_type": "stream",
          "name": "stdout",
          "text": [
            "Population: [1, 2, 3, 4, 5, 6, 7, 8, 9, 10, 11, 12, 13, 14, 15, 16, 17, 18, 19, 20, 21, 22, 23, 24, 25, 26, 27, 28, 29, 30, 31, 32, 33, 34, 35, 36, 37, 38, 39, 40, 41, 42, 43, 44, 45, 46, 47, 48, 49, 50, 51, 52, 53, 54, 55, 56, 57, 58, 59, 60, 61, 62, 63, 64, 65, 66, 67, 68, 69, 70, 71, 72, 73, 74, 75, 76, 77, 78, 79, 80, 81, 82, 83, 84, 85, 86, 87, 88, 89, 90, 91, 92, 93, 94, 95, 96, 97, 98, 99, 100]\n",
            "\n",
            "Simple Random Sample: [17, 24, 27, 28, 29, 39, 45, 78, 89, 97]\n",
            "\n",
            "Systematic Sample: [4, 14, 24, 34, 44, 54, 64, 74, 84, 94]\n"
          ]
        }
      ]
    },
    {
      "cell_type": "markdown",
      "source": [
        "13.Calculate the mean, median, and mode of grouped data."
      ],
      "metadata": {
        "id": "-SFAOETnbEMO"
      }
    },
    {
      "cell_type": "code",
      "source": [
        "import numpy as np\n",
        "\n",
        "# Define class intervals (as tuples) and frequencies\n",
        "class_intervals = [(10, 20), (20, 30), (30, 40), (40, 50), (50, 60)]\n",
        "frequencies = [5, 8, 15, 10, 7]\n",
        "\n",
        "# Calculate midpoints\n",
        "midpoints = [(interval[0] + interval[1]) / 2 for interval in class_intervals]\n",
        "\n",
        "# Total frequency\n",
        "N = sum(frequencies)\n",
        "\n",
        "# Mean\n",
        "mean = sum(f * m for f, m in zip(frequencies, midpoints)) / N\n",
        "\n",
        "# Cumulative frequencies\n",
        "cum_freq = np.cumsum(frequencies)\n",
        "\n",
        "# Median calculation\n",
        "# Find median class (where cumulative freq >= N/2)\n",
        "median_class_index = np.where(cum_freq >= N/2)[0][0]\n",
        "L = class_intervals[median_class_index][0]  # lower boundary of median class\n",
        "F = cum_freq[median_class_index - 1] if median_class_index > 0 else 0\n",
        "f_m = frequencies[median_class_index]\n",
        "h = class_intervals[0][1] - class_intervals[0][0]  # class width\n",
        "\n",
        "median = L + ((N/2 - F) / f_m) * h\n",
        "\n",
        "# Mode calculation\n",
        "# Modal class is class with highest frequency\n",
        "modal_class_index = np.argmax(frequencies)\n",
        "L_mode = class_intervals[modal_class_index][0]\n",
        "f1 = frequencies[modal_class_index]\n",
        "f0 = frequencies[modal_class_index - 1] if modal_class_index > 0 else 0\n",
        "f2 = frequencies[modal_class_index + 1] if modal_class_index < len(frequencies) - 1 else 0\n",
        "\n",
        "mode = L_mode + ((f1 - f0) / (2*f1 - f0 - f2)) * h\n",
        "\n",
        "print(f\"Mean: {mean:.2f}\")\n",
        "print(f\"Median: {median:.2f}\")\n",
        "print(f\"Mode: {mode:.2f}\")\n"
      ],
      "metadata": {
        "colab": {
          "base_uri": "https://localhost:8080/"
        },
        "id": "t8rIGtmxbJ02",
        "outputId": "c9fb4a00-bfb5-48ce-c5c2-e04e806a0167"
      },
      "execution_count": 18,
      "outputs": [
        {
          "output_type": "stream",
          "name": "stdout",
          "text": [
            "Mean: 36.33\n",
            "Median: 36.33\n",
            "Mode: 35.83\n"
          ]
        }
      ]
    },
    {
      "cell_type": "markdown",
      "source": [
        "14.Simulate data using Python and calculate its central tendency and dispersion."
      ],
      "metadata": {
        "id": "9cIiH28UbS96"
      }
    },
    {
      "cell_type": "code",
      "source": [
        "import numpy as np\n",
        "import scipy.stats as stats\n",
        "\n",
        "np.random.seed(42)\n",
        "data = np.random.normal(loc=50, scale=10, size=100)\n",
        "\n",
        "mean = np.mean(data)\n",
        "median = np.median(data)\n",
        "\n",
        "# Round data to nearest integer to calculate mode on binned values\n",
        "rounded_data = np.round(data).astype(int)\n",
        "mode_result = stats.mode(rounded_data, keepdims=True)\n",
        "\n",
        "# Depending on scipy version, mode_result.mode can be scalar or array\n",
        "mode = mode_result.mode.item() if np.ndim(mode_result.mode) == 0 else mode_result.mode[0]\n",
        "\n",
        "variance = np.var(data, ddof=1)\n",
        "std_dev = np.std(data, ddof=1)\n",
        "data_range = np.max(data) - np.min(data)\n",
        "\n",
        "print(f\"Data (first 10 values): {np.round(data[:10], 2)}\\n\")\n",
        "print(f\"Mean: {mean:.2f}\")\n",
        "print(f\"Median: {median:.2f}\")\n",
        "print(f\"Mode: {mode}\")\n",
        "print(f\"Variance: {variance:.2f}\")\n",
        "print(f\"Standard Deviation: {std_dev:.2f}\")\n",
        "print(f\"Range: {data_range:.2f}\")\n"
      ],
      "metadata": {
        "colab": {
          "base_uri": "https://localhost:8080/"
        },
        "id": "jjaMmflkbZuv",
        "outputId": "2061d656-eb6f-4840-b757-bd5078d30ba1"
      },
      "execution_count": 20,
      "outputs": [
        {
          "output_type": "stream",
          "name": "stdout",
          "text": [
            "Data (first 10 values): [54.97 48.62 56.48 65.23 47.66 47.66 65.79 57.67 45.31 55.43]\n",
            "\n",
            "Mean: 48.96\n",
            "Median: 48.73\n",
            "Mode: 45\n",
            "Variance: 82.48\n",
            "Standard Deviation: 9.08\n",
            "Range: 44.72\n"
          ]
        }
      ]
    },
    {
      "cell_type": "markdown",
      "source": [
        "15.Use NumPy or pandas to summarize a dataset’s descriptive statistics."
      ],
      "metadata": {
        "id": "lx3buMk0b3Ug"
      }
    },
    {
      "cell_type": "code",
      "source": [
        "import numpy as np\n",
        "\n",
        "# Simulate dataset\n",
        "np.random.seed(0)\n",
        "data = np.random.normal(loc=50, scale=10, size=100)\n",
        "\n",
        "print(\"NumPy Descriptive Statistics:\")\n",
        "print(f\"Mean: {np.mean(data):.2f}\")\n",
        "print(f\"Median: {np.median(data):.2f}\")\n",
        "print(f\"Variance: {np.var(data, ddof=1):.2f}\")\n",
        "print(f\"Standard Deviation: {np.std(data, ddof=1):.2f}\")\n",
        "print(f\"Minimum: {np.min(data):.2f}\")\n",
        "print(f\"Maximum: {np.max(data):.2f}\")\n",
        "print(f\"25th Percentile: {np.percentile(data, 25):.2f}\")\n",
        "print(f\"50th Percentile (Median): {np.percentile(data, 50):.2f}\")\n",
        "print(f\"75th Percentile: {np.percentile(data, 75):.2f}\")\n"
      ],
      "metadata": {
        "colab": {
          "base_uri": "https://localhost:8080/"
        },
        "id": "bvZOzC6Mb_ze",
        "outputId": "a5937aa4-19a3-4bf7-d07e-626a6360498d"
      },
      "execution_count": 21,
      "outputs": [
        {
          "output_type": "stream",
          "name": "stdout",
          "text": [
            "NumPy Descriptive Statistics:\n",
            "Mean: 50.60\n",
            "Median: 50.94\n",
            "Variance: 102.61\n",
            "Standard Deviation: 10.13\n",
            "Minimum: 24.47\n",
            "Maximum: 72.70\n",
            "25th Percentile: 43.56\n",
            "50th Percentile (Median): 50.94\n",
            "75th Percentile: 57.37\n"
          ]
        }
      ]
    },
    {
      "cell_type": "markdown",
      "source": [
        "16.Plot a boxplot to understand the spread and identify outliers"
      ],
      "metadata": {
        "id": "W-45zpVPcLt_"
      }
    },
    {
      "cell_type": "code",
      "source": [
        "import numpy as np\n",
        "import matplotlib.pyplot as plt\n",
        "import seaborn as sns\n",
        "\n",
        "# Simulate data\n",
        "np.random.seed(42)\n",
        "data = np.random.normal(loc=50, scale=10, size=100)\n",
        "\n",
        "# Create boxplot\n",
        "plt.figure(figsize=(8, 5))\n",
        "sns.boxplot(x=data)\n",
        "plt.title('Boxplot of Dataset')\n",
        "plt.xlabel('Values')\n",
        "plt.show()\n"
      ],
      "metadata": {
        "colab": {
          "base_uri": "https://localhost:8080/",
          "height": 487
        },
        "id": "Zf4sOwKrb_6J",
        "outputId": "9ee54233-c4d6-4034-94c4-9fb9e5285785"
      },
      "execution_count": 22,
      "outputs": [
        {
          "output_type": "display_data",
          "data": {
            "text/plain": [
              "<Figure size 800x500 with 1 Axes>"
            ],
            "image/png": "[encoded data removed]"
          },
          "metadata": {}
        }
      ]
    },
    {
      "cell_type": "markdown",
      "source": [
        "17.Calculate the interquartile range (IQR) of a dataset"
      ],
      "metadata": {
        "id": "Yvv3g8_Wcb4X"
      }
    },
    {
      "cell_type": "code",
      "source": [
        "import numpy as np\n",
        "\n",
        "# Example dataset\n",
        "data = np.array([12, 7, 3, 8, 10, 15, 6, 9, 11, 13])\n",
        "\n",
        "# Calculate Q1 and Q3\n",
        "Q1 = np.percentile(data, 25)\n",
        "Q3 = np.percentile(data, 75)\n",
        "\n",
        "# Calculate IQR\n",
        "IQR = Q3 - Q1\n",
        "\n",
        "print(f\"Q1 (25th percentile): {Q1}\")\n",
        "print(f\"Q3 (75th percentile): {Q3}\")\n",
        "print(f\"IQR: {IQR}\")\n"
      ],
      "metadata": {
        "colab": {
          "base_uri": "https://localhost:8080/"
        },
        "id": "7Lo5bJRJcmNc",
        "outputId": "83651015-5746-4602-c66a-54bfe969d2c9"
      },
      "execution_count": 23,
      "outputs": [
        {
          "output_type": "stream",
          "name": "stdout",
          "text": [
            "Q1 (25th percentile): 7.25\n",
            "Q3 (75th percentile): 11.75\n",
            "IQR: 4.5\n"
          ]
        }
      ]
    },
    {
      "cell_type": "markdown",
      "source": [
        "18.Implement Z-score normalization and explain its significance"
      ],
      "metadata": {
        "id": "4Uy57Yjvcv1n"
      }
    },
    {
      "cell_type": "code",
      "source": [
        "import numpy as np\n",
        "\n",
        "# Sample dataset\n",
        "data = np.array([10, 15, 20, 25, 30])\n",
        "\n",
        "# Calculate mean and standard deviation\n",
        "mean = np.mean(data)\n",
        "std_dev = np.std(data)\n",
        "\n",
        "# Apply Z-score normalization\n",
        "z_scores=(data-mean)/std_dev\n",
        "\n",
        "print(\"Original data:\",data)\n",
        "print(\"Mean:\",mean)\n",
        "print(\"Standard Deviation:\",std_dev)\n",
        "print(\"Z-score normalized data:\",z_scores)\n"
      ],
      "metadata": {
        "colab": {
          "base_uri": "https://localhost:8080/"
        },
        "id": "qXka0PkJc2Iv",
        "outputId": "28804ee1-ee02-4539-89b4-4cb1c4525812"
      },
      "execution_count": 27,
      "outputs": [
        {
          "output_type": "stream",
          "name": "stdout",
          "text": [
            "Original data: [10 15 20 25 30]\n",
            "Mean: 20.0\n",
            "Standard Deviation: 7.0710678118654755\n",
            "Z-score normalized data: [-1.41421356 -0.70710678  0.          0.70710678  1.41421356]\n"
          ]
        }
      ]
    },
    {
      "cell_type": "markdown",
      "source": [
        "19.Compare two datasets using their standard deviations"
      ],
      "metadata": {
        "id": "wQmouDCmdaSn"
      }
    },
    {
      "cell_type": "code",
      "source": [
        "import numpy as np\n",
        "\n",
        "# Dataset 1: Less spread\n",
        "data1 = np.array([45, 47, 46, 44, 45, 46, 47, 45, 46, 44])\n",
        "\n",
        "# Dataset 2: More spread\n",
        "data2 = np.array([30, 60, 25, 80, 55, 20, 75, 40, 90, 50])\n",
        "\n",
        "std_dev1 = np.std(data1, ddof=1)  # sample std deviation\n",
        "std_dev2 = np.std(data2, ddof=1)\n",
        "\n",
        "print(f\"Standard Deviation of Dataset 1: {std_dev1:.2f}\")\n",
        "print(f\"Standard Deviation of Dataset 2: {std_dev2:.2f}\")\n",
        "\n",
        "if std_dev1 > std_dev2:\n",
        "    print(\"Dataset 1 has more variability.\")\n",
        "elif std_dev1 < std_dev2:\n",
        "    print(\"Dataset 2 has more variability.\")\n",
        "else:\n",
        "    print(\"Both datasets have equal variability.\")\n"
      ],
      "metadata": {
        "colab": {
          "base_uri": "https://localhost:8080/"
        },
        "id": "pg_a4BhEdhi7",
        "outputId": "3c69d0bd-ace4-48bf-fd03-920749d0d25e"
      },
      "execution_count": 28,
      "outputs": [
        {
          "output_type": "stream",
          "name": "stdout",
          "text": [
            "Standard Deviation of Dataset 1: 1.08\n",
            "Standard Deviation of Dataset 2: 24.07\n",
            "Dataset 2 has more variability.\n"
          ]
        }
      ]
    },
    {
      "cell_type": "markdown",
      "source": [
        "20.Write a Python program to visualize covariance using a heatmap"
      ],
      "metadata": {
        "id": "UAhrjAt2do_n"
      }
    },
    {
      "cell_type": "code",
      "source": [
        "import numpy as np\n",
        "import seaborn as sns\n",
        "import matplotlib.pyplot as plt\n",
        "\n",
        "# Simulate a dataset with 3 variables\n",
        "np.random.seed(42)\n",
        "data = np.random.multivariate_normal(\n",
        "    mean=[0, 5, 10],\n",
        "    cov=[[1, 0.8, 0.3],\n",
        "         [0.8, 2, 0.5],\n",
        "         [0.3, 0.5, 1]],\n",
        "    size=100\n",
        ")\n",
        "\n",
        "# Calculate covariance matrix\n",
        "cov_matrix = np.cov(data, rowvar=False)\n",
        "\n",
        "# Plot heatmap\n",
        "plt.figure(figsize=(6, 5))\n",
        "sns.heatmap(cov_matrix, annot=True, cmap='coolwarm', xticklabels=['Var1', 'Var2', 'Var3'], yticklabels=['Var1', 'Var2', 'Var3'])\n",
        "plt.title('Covariance Matrix Heatmap')\n",
        "plt.show()\n"
      ],
      "metadata": {
        "colab": {
          "base_uri": "https://localhost:8080/",
          "height": 468
        },
        "id": "7_c_HQE_duLp",
        "outputId": "6fef5424-eddc-4598-deae-2ff47450e5c0"
      },
      "execution_count": 29,
      "outputs": [
        {
          "output_type": "display_data",
          "data": {
            "text/plain": [
              "<Figure size 600x500 with 2 Axes>"
            ],
            "image/png": "[encoded data removed]"
          },
          "metadata": {}
        }
      ]
    },
    {
      "cell_type": "markdown",
      "source": [
        "21.Use seaborn to create a correlation matrix for a dataset"
      ],
      "metadata": {
        "id": "5q7OyU52d2lY"
      }
    },
    {
      "cell_type": "code",
      "source": [
        "import numpy as np\n",
        "import pandas as pd\n",
        "import seaborn as sns\n",
        "import matplotlib.pyplot as plt\n",
        "\n",
        "# Simulate a dataset with 4 variables\n",
        "np.random.seed(42)\n",
        "data = np.random.multivariate_normal(\n",
        "    mean=[0, 5, 10, 15],\n",
        "    cov=[[1, 0.8, 0.3, 0.5],\n",
        "         [0.8, 2, 0.5, 0.7],\n",
        "         [0.3, 0.5, 1, 0.4],\n",
        "         [0.5, 0.7, 0.4, 3]],\n",
        "    size=100\n",
        ")\n",
        "\n",
        "# Convert to pandas DataFrame for better labeling\n",
        "df = pd.DataFrame(data, columns=['Var1', 'Var2', 'Var3', 'Var4'])\n",
        "\n",
        "# Calculate correlation matrix\n",
        "corr_matrix = df.corr()\n",
        "\n",
        "# Plot correlation heatmap\n",
        "plt.figure(figsize=(8, 6))\n",
        "sns.heatmap(corr_matrix, annot=True, cmap='coolwarm', center=0)\n",
        "plt.title('Correlation Matrix Heatmap')\n",
        "plt.show()\n"
      ],
      "metadata": {
        "colab": {
          "base_uri": "https://localhost:8080/",
          "height": 545
        },
        "id": "CaHVPxcbd7RD",
        "outputId": "314f3440-c0f4-489f-a0a8-f9c9a1090d8d"
      },
      "execution_count": 30,
      "outputs": [
        {
          "output_type": "display_data",
          "data": {
            "text/plain": [
              "<Figure size 800x600 with 2 Axes>"
            ],
            "image/png": "[encoded data removed]"
          },
          "metadata": {}
        }
      ]
    },
    {
      "cell_type": "markdown",
      "source": [
        "22.Generate a dataset and implement both variance and standard deviation computations"
      ],
      "metadata": {
        "id": "VBlGy8i6eDEp"
      }
    },
    {
      "cell_type": "code",
      "source": [
        "import numpy as np\n",
        "\n",
        "# Generate a dataset of 20 random numbers (normal distribution)\n",
        "np.random.seed(1)\n",
        "data = np.random.normal(loc=50, scale=5, size=20)\n",
        "\n",
        "print(\"Dataset:\", np.round(data, 2))\n",
        "\n",
        "# Manual calculation of variance and standard deviation\n",
        "mean = np.mean(data)\n",
        "variance_manual = np.sum((data - mean) ** 2) / (len(data) - 1)  # sample variance\n",
        "std_dev_manual = np.sqrt(variance_manual)\n",
        "\n",
        "# Using NumPy built-in functions\n",
        "variance_np = np.var(data, ddof=1)  # ddof=1 for sample variance\n",
        "std_dev_np = np.std(data, ddof=1)\n",
        "\n",
        "print(f\"\\nManual Variance: {variance_manual:.4f}\")\n",
        "print(f\"NumPy Variance: {variance_np:.4f}\")\n",
        "\n",
        "print(f\"\\nManual Standard Deviation: {std_dev_manual:.4f}\")\n",
        "print(f\"NumPy Standard Deviation: {std_dev_np:.4f}\")\n"
      ],
      "metadata": {
        "colab": {
          "base_uri": "https://localhost:8080/"
        },
        "id": "y5SK2ExHeJ7w",
        "outputId": "1f4d4c3f-491a-40fb-a645-f86eacc4d6ed"
      },
      "execution_count": 31,
      "outputs": [
        {
          "output_type": "stream",
          "name": "stdout",
          "text": [
            "Dataset: [58.12 46.94 47.36 44.64 54.33 38.49 58.72 46.19 51.6  48.75 57.31 39.7\n",
            " 48.39 48.08 55.67 44.5  49.14 45.61 50.21 52.91]\n",
            "\n",
            "Manual Variance: 31.8308\n",
            "NumPy Variance: 31.8308\n",
            "\n",
            "Manual Standard Deviation: 5.6419\n",
            "NumPy Standard Deviation: 5.6419\n"
          ]
        }
      ]
    },
    {
      "cell_type": "markdown",
      "source": [
        "23.Visualize skewness and kurtosis using Python libraries like matplotlib or seaborn"
      ],
      "metadata": {
        "id": "GDoSDTTGeS5p"
      }
    },
    {
      "cell_type": "code",
      "source": [
        "import numpy as np\n",
        "import matplotlib.pyplot as plt\n",
        "from scipy.stats import skew, kurtosis\n",
        "import seaborn as sns\n",
        "\n",
        "# Generate a skewed dataset using exponential distribution\n",
        "np.random.seed(0)\n",
        "data = np.random.exponential(scale=2, size=1000)\n",
        "\n",
        "# Calculate skewness and kurtosis\n",
        "data_skewness = skew(data)\n",
        "data_kurtosis = kurtosis(data)  # excess kurtosis (normal = 0)\n",
        "\n",
        "# Plot histogram with density curve\n",
        "plt.figure(figsize=(8, 5))\n",
        "sns.histplot(data, bins=30, kde=True, color='skyblue')\n",
        "\n",
        "# Add text for skewness and kurtosis\n",
        "plt.text(x=max(data)*0.6, y=70, s=f'Skewness: {data_skewness:.2f}', fontsize=12)\n",
        "plt.text(x=max(data)*0.6, y=60, s=f'Kurtosis: {data_kurtosis:.2f}', fontsize=12)\n",
        "\n",
        "plt.title('Histogram to Visualize Skewness and Kurtosis')\n",
        "plt.xlabel('Value')\n",
        "plt.ylabel('Frequency')\n",
        "plt.show()\n"
      ],
      "metadata": {
        "colab": {
          "base_uri": "https://localhost:8080/",
          "height": 487
        },
        "id": "CW3eA09PefSK",
        "outputId": "33f6676e-535f-470c-9a85-0de90b911cf5"
      },
      "execution_count": 32,
      "outputs": [
        {
          "output_type": "display_data",
          "data": {
            "text/plain": [
              "<Figure size 800x500 with 1 Axes>"
            ],
            "image/png": "[encoded data removed]"
          },
          "metadata": {}
        }
      ]
    },
    {
      "cell_type": "markdown",
      "source": [
        "24.Implement the Pearson and Spearman correlation coefficients for a dataset."
      ],
      "metadata": {
        "id": "slKSagV9eivR"
      }
    },
    {
      "cell_type": "code",
      "source": [
        "import numpy as np\n",
        "from scipy.stats import pearsonr, spearmanr\n",
        "\n",
        "# Sample datasets (two variables)\n",
        "x = np.array([10, 20, 30, 40, 50, 60, 70, 80, 90, 100])\n",
        "y = np.array([12, 24, 29, 44, 48, 65, 70, 85, 95, 105])\n",
        "\n",
        "# Calculate Pearson correlation coefficient and p-value\n",
        "pearson_corr, pearson_p = pearsonr(x, y)\n",
        "\n",
        "# Calculate Spearman correlation coefficient and p-value\n",
        "spearman_corr, spearman_p = spearmanr(x, y)\n",
        "\n",
        "print(f\"Pearson correlation coefficient: {pearson_corr:.4f} (p-value: {pearson_p:.4f})\")\n",
        "print(f\"Spearman correlation coefficient: {spearman_corr:.4f} (p-value: {spearman_p:.4f})\")\n"
      ],
      "metadata": {
        "colab": {
          "base_uri": "https://localhost:8080/"
        },
        "id": "jWgKd16zeqTW",
        "outputId": "3b5be491-cb47-4b12-9381-97f14249d793"
      },
      "execution_count": 33,
      "outputs": [
        {
          "output_type": "stream",
          "name": "stdout",
          "text": [
            "Pearson correlation coefficient: 0.9968 (p-value: 0.0000)\n",
            "Spearman correlation coefficient: 1.0000 (p-value: 0.0000)\n"
          ]
        }
      ]
    }
  ]
}